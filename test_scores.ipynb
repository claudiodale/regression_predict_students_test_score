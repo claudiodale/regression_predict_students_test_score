{
 "cells": [
  {
   "cell_type": "code",
   "execution_count": 1,
   "metadata": {},
   "outputs": [],
   "source": [
    "import pandas as pd\n",
    "import matplotlib.pyplot as plt\n",
    "import numpy as np\n",
    "import seaborn as sns\n",
    "from sklearn.model_selection import train_test_split\n",
    "import warnings\n",
    "warnings.filterwarnings(\"ignore\")\n",
    "from sklearn.feature_selection import chi2\n",
    "from sklearn.compose import make_column_transformer\n",
    "from sklearn.preprocessing import StandardScaler\n",
    "from sklearn.pipeline import make_pipeline\n",
    "from sklearn.model_selection import GridSearchCV\n",
    "from sklearn.linear_model import LinearRegression\n",
    "from sklearn.metrics import mean_squared_error\n",
    "from sklearn.metrics import mean_absolute_error\n",
    "from yellowbrick.regressor import ResidualsPlot\n",
    "from sklearn.preprocessing import OneHotEncoder\n",
    "from sklearn.neighbors import KNeighborsRegressor\n",
    "from sklearn.tree import DecisionTreeRegressor\n",
    "from sklearn.ensemble import RandomForestRegressor\n",
    "from sklearn.linear_model import Ridge\n",
    "from sklearn.linear_model import Lasso\n",
    "from sklearn import tree"
   ]
  },
  {
   "cell_type": "code",
   "execution_count": 2,
   "metadata": {},
   "outputs": [],
   "source": [
    "df = pd.read_csv(\"test_scores.csv\")"
   ]
  },
  {
   "cell_type": "code",
   "execution_count": 3,
   "metadata": {},
   "outputs": [
    {
     "data": {
      "text/html": [
       "<div>\n",
       "<style scoped>\n",
       "    .dataframe tbody tr th:only-of-type {\n",
       "        vertical-align: middle;\n",
       "    }\n",
       "\n",
       "    .dataframe tbody tr th {\n",
       "        vertical-align: top;\n",
       "    }\n",
       "\n",
       "    .dataframe thead th {\n",
       "        text-align: right;\n",
       "    }\n",
       "</style>\n",
       "<table border=\"1\" class=\"dataframe\">\n",
       "  <thead>\n",
       "    <tr style=\"text-align: right;\">\n",
       "      <th></th>\n",
       "      <th>school</th>\n",
       "      <th>school_setting</th>\n",
       "      <th>school_type</th>\n",
       "      <th>classroom</th>\n",
       "      <th>teaching_method</th>\n",
       "      <th>n_student</th>\n",
       "      <th>student_id</th>\n",
       "      <th>gender</th>\n",
       "      <th>lunch</th>\n",
       "      <th>pretest</th>\n",
       "      <th>posttest</th>\n",
       "    </tr>\n",
       "  </thead>\n",
       "  <tbody>\n",
       "    <tr>\n",
       "      <th>0</th>\n",
       "      <td>ANKYI</td>\n",
       "      <td>Urban</td>\n",
       "      <td>Non-public</td>\n",
       "      <td>6OL</td>\n",
       "      <td>Standard</td>\n",
       "      <td>20.0</td>\n",
       "      <td>2FHT3</td>\n",
       "      <td>Female</td>\n",
       "      <td>Does not qualify</td>\n",
       "      <td>62.0</td>\n",
       "      <td>72.0</td>\n",
       "    </tr>\n",
       "    <tr>\n",
       "      <th>1</th>\n",
       "      <td>ANKYI</td>\n",
       "      <td>Urban</td>\n",
       "      <td>Non-public</td>\n",
       "      <td>6OL</td>\n",
       "      <td>Standard</td>\n",
       "      <td>20.0</td>\n",
       "      <td>3JIVH</td>\n",
       "      <td>Female</td>\n",
       "      <td>Does not qualify</td>\n",
       "      <td>66.0</td>\n",
       "      <td>79.0</td>\n",
       "    </tr>\n",
       "    <tr>\n",
       "      <th>2</th>\n",
       "      <td>ANKYI</td>\n",
       "      <td>Urban</td>\n",
       "      <td>Non-public</td>\n",
       "      <td>6OL</td>\n",
       "      <td>Standard</td>\n",
       "      <td>20.0</td>\n",
       "      <td>3XOWE</td>\n",
       "      <td>Male</td>\n",
       "      <td>Does not qualify</td>\n",
       "      <td>64.0</td>\n",
       "      <td>76.0</td>\n",
       "    </tr>\n",
       "    <tr>\n",
       "      <th>3</th>\n",
       "      <td>ANKYI</td>\n",
       "      <td>Urban</td>\n",
       "      <td>Non-public</td>\n",
       "      <td>6OL</td>\n",
       "      <td>Standard</td>\n",
       "      <td>20.0</td>\n",
       "      <td>556O0</td>\n",
       "      <td>Female</td>\n",
       "      <td>Does not qualify</td>\n",
       "      <td>61.0</td>\n",
       "      <td>77.0</td>\n",
       "    </tr>\n",
       "    <tr>\n",
       "      <th>4</th>\n",
       "      <td>ANKYI</td>\n",
       "      <td>Urban</td>\n",
       "      <td>Non-public</td>\n",
       "      <td>6OL</td>\n",
       "      <td>Standard</td>\n",
       "      <td>20.0</td>\n",
       "      <td>74LOE</td>\n",
       "      <td>Male</td>\n",
       "      <td>Does not qualify</td>\n",
       "      <td>64.0</td>\n",
       "      <td>76.0</td>\n",
       "    </tr>\n",
       "  </tbody>\n",
       "</table>\n",
       "</div>"
      ],
      "text/plain": [
       "  school school_setting school_type classroom teaching_method  n_student  \\\n",
       "0  ANKYI          Urban  Non-public       6OL        Standard       20.0   \n",
       "1  ANKYI          Urban  Non-public       6OL        Standard       20.0   \n",
       "2  ANKYI          Urban  Non-public       6OL        Standard       20.0   \n",
       "3  ANKYI          Urban  Non-public       6OL        Standard       20.0   \n",
       "4  ANKYI          Urban  Non-public       6OL        Standard       20.0   \n",
       "\n",
       "  student_id  gender             lunch  pretest  posttest  \n",
       "0      2FHT3  Female  Does not qualify     62.0      72.0  \n",
       "1      3JIVH  Female  Does not qualify     66.0      79.0  \n",
       "2      3XOWE    Male  Does not qualify     64.0      76.0  \n",
       "3      556O0  Female  Does not qualify     61.0      77.0  \n",
       "4      74LOE    Male  Does not qualify     64.0      76.0  "
      ]
     },
     "execution_count": 3,
     "metadata": {},
     "output_type": "execute_result"
    }
   ],
   "source": [
    "df.head()"
   ]
  },
  {
   "cell_type": "code",
   "execution_count": 4,
   "metadata": {},
   "outputs": [
    {
     "data": {
      "text/plain": [
       "(2133, 11)"
      ]
     },
     "execution_count": 4,
     "metadata": {},
     "output_type": "execute_result"
    }
   ],
   "source": [
    "df.shape"
   ]
  },
  {
   "cell_type": "code",
   "execution_count": 5,
   "metadata": {},
   "outputs": [
    {
     "data": {
      "text/plain": [
       "school             0.0\n",
       "school_setting     0.0\n",
       "school_type        0.0\n",
       "classroom          0.0\n",
       "teaching_method    0.0\n",
       "n_student          0.0\n",
       "student_id         0.0\n",
       "gender             0.0\n",
       "lunch              0.0\n",
       "pretest            0.0\n",
       "posttest           0.0\n",
       "dtype: float64"
      ]
     },
     "execution_count": 5,
     "metadata": {},
     "output_type": "execute_result"
    }
   ],
   "source": [
    "df.isna().mean()"
   ]
  },
  {
   "cell_type": "code",
   "execution_count": 6,
   "metadata": {},
   "outputs": [
    {
     "data": {
      "text/plain": [
       "Index(['school', 'school_setting', 'school_type', 'classroom',\n",
       "       'teaching_method', 'n_student', 'student_id', 'gender', 'lunch',\n",
       "       'pretest', 'posttest'],\n",
       "      dtype='object')"
      ]
     },
     "execution_count": 6,
     "metadata": {},
     "output_type": "execute_result"
    }
   ],
   "source": [
    "df.columns"
   ]
  },
  {
   "cell_type": "code",
   "execution_count": 7,
   "metadata": {},
   "outputs": [],
   "source": [
    "X = df[['school', 'school_setting', 'school_type', 'classroom',\n",
    "       'teaching_method', 'n_student', 'student_id', 'gender', 'lunch',\n",
    "       'pretest']]\n",
    "y = df.posttest\n",
    "\n",
    "X_train, X_test, y_train, y_test = train_test_split(X, y, test_size = 0.20)"
   ]
  },
  {
   "cell_type": "markdown",
   "metadata": {},
   "source": [
    "# EDA"
   ]
  },
  {
   "cell_type": "code",
   "execution_count": 8,
   "metadata": {},
   "outputs": [
    {
     "data": {
      "text/plain": [
       "QOQTS    127\n",
       "GOOBU    119\n",
       "GJJHK    101\n",
       "UKPGS     99\n",
       "CUQAM     95\n",
       "VVTVA     94\n",
       "ZOWMK     93\n",
       "KZKKE     92\n",
       "DNQDD     91\n",
       "CCAAW     83\n",
       "VKWQH     81\n",
       "IDGFP     76\n",
       "UAGPU     68\n",
       "UUUQX     65\n",
       "OJOBU     62\n",
       "ZMNYA     61\n",
       "CIMBB     55\n",
       "GOKXL     55\n",
       "LAYPA     41\n",
       "KFZMY     41\n",
       "FBUMG     37\n",
       "VHDHF     36\n",
       "ANKYI     34\n",
       "Name: school, dtype: int64"
      ]
     },
     "execution_count": 8,
     "metadata": {},
     "output_type": "execute_result"
    }
   ],
   "source": [
    "X_train.school.value_counts()"
   ]
  },
  {
   "cell_type": "code",
   "execution_count": 9,
   "metadata": {},
   "outputs": [
    {
     "data": {
      "text/plain": [
       "<AxesSubplot:xlabel='school', ylabel='posttest'>"
      ]
     },
     "execution_count": 9,
     "metadata": {},
     "output_type": "execute_result"
    },
    {
     "data": {
      "image/png": "[encoded data removed]",
      "text/plain": [
       "<Figure size 576x396 with 1 Axes>"
      ]
     },
     "metadata": {},
     "output_type": "display_data"
    }
   ],
   "source": [
    "sns.boxplot(x = X_train.school, y = df.posttest)\n",
    "#the school variable looks relevant...the score changes considerably depending on the school"
   ]
  },
  {
   "cell_type": "code",
   "execution_count": 10,
   "metadata": {},
   "outputs": [
    {
     "data": {
      "text/plain": [
       "Urban       734\n",
       "Suburban    568\n",
       "Rural       404\n",
       "Name: school_setting, dtype: int64"
      ]
     },
     "execution_count": 10,
     "metadata": {},
     "output_type": "execute_result"
    }
   ],
   "source": [
    "X_train.school_setting.value_counts()"
   ]
  },
  {
   "cell_type": "code",
   "execution_count": 11,
   "metadata": {},
   "outputs": [
    {
     "data": {
      "text/plain": [
       "<AxesSubplot:xlabel='school_setting', ylabel='posttest'>"
      ]
     },
     "execution_count": 11,
     "metadata": {},
     "output_type": "execute_result"
    },
    {
     "data": {
      "image/png": "[encoded data removed]",
      "text/plain": [
       "<Figure size 576x396 with 1 Axes>"
      ]
     },
     "metadata": {},
     "output_type": "display_data"
    }
   ],
   "source": [
    "sns.boxplot(x = X_train.school_setting, y = y_train)\n",
    "#the school setting variable looks relevant too .... the test score changes based on the value it has"
   ]
  },
  {
   "cell_type": "code",
   "execution_count": 12,
   "metadata": {},
   "outputs": [
    {
     "data": {
      "text/plain": [
       "Public        1279\n",
       "Non-public     427\n",
       "Name: school_type, dtype: int64"
      ]
     },
     "execution_count": 12,
     "metadata": {},
     "output_type": "execute_result"
    }
   ],
   "source": [
    "X_train.school_type.value_counts()"
   ]
  },
  {
   "cell_type": "code",
   "execution_count": 13,
   "metadata": {},
   "outputs": [
    {
     "data": {
      "text/plain": [
       "<AxesSubplot:xlabel='school_type', ylabel='posttest'>"
      ]
     },
     "execution_count": 13,
     "metadata": {},
     "output_type": "execute_result"
    },
    {
     "data": {
      "image/png": "[encoded data removed]",
      "text/plain": [
       "<Figure size 576x396 with 1 Axes>"
      ]
     },
     "metadata": {},
     "output_type": "display_data"
    }
   ],
   "source": [
    "sns.boxplot(x = X_train.school_type, y = y_train)\n",
    "#the school variable looks relevant... those attending non public schools seems to have better scores\n",
    "\n",
    "#the information brought by this variable could be redundant ...the information could ge already be captured by the name of the school"
   ]
  },
  {
   "cell_type": "code",
   "execution_count": 14,
   "metadata": {},
   "outputs": [
    {
     "data": {
      "text/plain": [
       "QA2    27\n",
       "NOR    27\n",
       "1Q1    26\n",
       "SUR    26\n",
       "OMI    25\n",
       "       ..\n",
       "SSP    11\n",
       "JGD    10\n",
       "6C1    10\n",
       "HUJ    10\n",
       "KR1    10\n",
       "Name: classroom, Length: 97, dtype: int64"
      ]
     },
     "execution_count": 14,
     "metadata": {},
     "output_type": "execute_result"
    }
   ],
   "source": [
    "X_train.classroom.value_counts()"
   ]
  },
  {
   "cell_type": "code",
   "execution_count": 15,
   "metadata": {},
   "outputs": [
    {
     "data": {
      "text/plain": [
       "<AxesSubplot:xlabel='classroom', ylabel='posttest'>"
      ]
     },
     "execution_count": 15,
     "metadata": {},
     "output_type": "execute_result"
    },
    {
     "data": {
      "image/png": "[encoded data removed]",
      "text/plain": [
       "<Figure size 576x396 with 1 Axes>"
      ]
     },
     "metadata": {},
     "output_type": "display_data"
    }
   ],
   "source": [
    "sns.boxplot(x = X_train.classroom, y = y_train)"
   ]
  },
  {
   "cell_type": "code",
   "execution_count": 16,
   "metadata": {},
   "outputs": [
    {
     "data": {
      "text/plain": [
       "Standard        1088\n",
       "Experimental     618\n",
       "Name: teaching_method, dtype: int64"
      ]
     },
     "execution_count": 16,
     "metadata": {},
     "output_type": "execute_result"
    }
   ],
   "source": [
    "X_train.teaching_method.value_counts()"
   ]
  },
  {
   "cell_type": "code",
   "execution_count": 17,
   "metadata": {},
   "outputs": [
    {
     "data": {
      "text/plain": [
       "<AxesSubplot:xlabel='teaching_method', ylabel='posttest'>"
      ]
     },
     "execution_count": 17,
     "metadata": {},
     "output_type": "execute_result"
    },
    {
     "data": {
      "image/png": "[encoded data removed]",
      "text/plain": [
       "<Figure size 576x396 with 1 Axes>"
      ]
     },
     "metadata": {},
     "output_type": "display_data"
    }
   ],
   "source": [
    "sns.boxplot(x = X_train.teaching_method, y = y_train)\n",
    "\n",
    "#there seems to be some difference in the test score based on the teaching method"
   ]
  },
  {
   "cell_type": "code",
   "execution_count": 18,
   "metadata": {},
   "outputs": [
    {
     "data": {
      "text/plain": [
       "22.0    211\n",
       "21.0    186\n",
       "27.0    158\n",
       "28.0    144\n",
       "24.0    123\n",
       "20.0    122\n",
       "30.0    120\n",
       "23.0    109\n",
       "17.0    103\n",
       "25.0    102\n",
       "19.0    100\n",
       "18.0     61\n",
       "16.0     47\n",
       "15.0     34\n",
       "29.0     24\n",
       "31.0     22\n",
       "14.0     21\n",
       "26.0     19\n",
       "Name: n_student, dtype: int64"
      ]
     },
     "execution_count": 18,
     "metadata": {},
     "output_type": "execute_result"
    }
   ],
   "source": [
    "X_train.n_student.value_counts()"
   ]
  },
  {
   "cell_type": "code",
   "execution_count": 19,
   "metadata": {},
   "outputs": [
    {
     "data": {
      "text/plain": [
       "<AxesSubplot:xlabel='n_student', ylabel='posttest'>"
      ]
     },
     "execution_count": 19,
     "metadata": {},
     "output_type": "execute_result"
    },
    {
     "data": {
      "image/png": "[encoded data removed]",
      "text/plain": [
       "<Figure size 720x720 with 1 Axes>"
      ]
     },
     "metadata": {},
     "output_type": "display_data"
    }
   ],
   "source": [
    "plt.figure(figsize=(10,10))\n",
    "sns.boxplot(x = X_train.n_student, y = y_train)"
   ]
  },
  {
   "cell_type": "markdown",
   "metadata": {},
   "source": [
    "It seems like the test score drop siginificantly as there are 24 or more students..I create a new column which takes value 1 when there are more than 23 students and value 0 otherwise "
   ]
  },
  {
   "cell_type": "code",
   "execution_count": 20,
   "metadata": {},
   "outputs": [],
   "source": [
    "X_train[\"number_students\"] = X_train.n_student.apply(lambda x: 1 if x > 23 else 0)"
   ]
  },
  {
   "cell_type": "code",
   "execution_count": 21,
   "metadata": {},
   "outputs": [
    {
     "data": {
      "text/plain": [
       "<bound method IndexOpsMixin.value_counts of 941     C2UIR\n",
       "728     JX5I4\n",
       "171     2BCEE\n",
       "2031    KEX5T\n",
       "2074    0FC2B\n",
       "        ...  \n",
       "582     K6QF7\n",
       "1949    5SPC0\n",
       "2044    0WLKR\n",
       "487     3BUJG\n",
       "569     0G5ME\n",
       "Name: student_id, Length: 1706, dtype: object>"
      ]
     },
     "execution_count": 21,
     "metadata": {},
     "output_type": "execute_result"
    }
   ],
   "source": [
    "X_train.student_id.value_counts\n",
    "\n",
    "#doesn't look relevant knowing the student id"
   ]
  },
  {
   "cell_type": "code",
   "execution_count": 22,
   "metadata": {},
   "outputs": [
    {
     "data": {
      "text/plain": [
       "Male      871\n",
       "Female    835\n",
       "Name: gender, dtype: int64"
      ]
     },
     "execution_count": 22,
     "metadata": {},
     "output_type": "execute_result"
    }
   ],
   "source": [
    "X_train.gender.value_counts()"
   ]
  },
  {
   "cell_type": "code",
   "execution_count": 23,
   "metadata": {},
   "outputs": [
    {
     "data": {
      "text/plain": [
       "<AxesSubplot:xlabel='gender', ylabel='posttest'>"
      ]
     },
     "execution_count": 23,
     "metadata": {},
     "output_type": "execute_result"
    },
    {
     "data": {
      "image/png": "[encoded data removed]",
      "text/plain": [
       "<Figure size 576x396 with 1 Axes>"
      ]
     },
     "metadata": {},
     "output_type": "display_data"
    }
   ],
   "source": [
    "sns.boxplot(x = X_train.gender, y = y_train)\n",
    "\n",
    "#knowing the gender doesn't seem to change the test score"
   ]
  },
  {
   "cell_type": "code",
   "execution_count": 24,
   "metadata": {},
   "outputs": [
    {
     "data": {
      "text/html": [
       "<div>\n",
       "<style scoped>\n",
       "    .dataframe tbody tr th:only-of-type {\n",
       "        vertical-align: middle;\n",
       "    }\n",
       "\n",
       "    .dataframe tbody tr th {\n",
       "        vertical-align: top;\n",
       "    }\n",
       "\n",
       "    .dataframe thead th {\n",
       "        text-align: right;\n",
       "    }\n",
       "</style>\n",
       "<table border=\"1\" class=\"dataframe\">\n",
       "  <thead>\n",
       "    <tr style=\"text-align: right;\">\n",
       "      <th></th>\n",
       "      <th>school</th>\n",
       "      <th>school_setting</th>\n",
       "      <th>school_type</th>\n",
       "      <th>classroom</th>\n",
       "      <th>teaching_method</th>\n",
       "      <th>n_student</th>\n",
       "      <th>student_id</th>\n",
       "      <th>gender</th>\n",
       "      <th>lunch</th>\n",
       "      <th>pretest</th>\n",
       "      <th>number_students</th>\n",
       "    </tr>\n",
       "  </thead>\n",
       "  <tbody>\n",
       "    <tr>\n",
       "      <th>941</th>\n",
       "      <td>KFZMY</td>\n",
       "      <td>Urban</td>\n",
       "      <td>Non-public</td>\n",
       "      <td>1VD</td>\n",
       "      <td>Experimental</td>\n",
       "      <td>27.0</td>\n",
       "      <td>C2UIR</td>\n",
       "      <td>Female</td>\n",
       "      <td>Does not qualify</td>\n",
       "      <td>45.0</td>\n",
       "      <td>1</td>\n",
       "    </tr>\n",
       "    <tr>\n",
       "      <th>728</th>\n",
       "      <td>GOOBU</td>\n",
       "      <td>Urban</td>\n",
       "      <td>Public</td>\n",
       "      <td>CXC</td>\n",
       "      <td>Standard</td>\n",
       "      <td>24.0</td>\n",
       "      <td>JX5I4</td>\n",
       "      <td>Female</td>\n",
       "      <td>Qualifies for reduced/free lunch</td>\n",
       "      <td>33.0</td>\n",
       "      <td>1</td>\n",
       "    </tr>\n",
       "    <tr>\n",
       "      <th>171</th>\n",
       "      <td>CIMBB</td>\n",
       "      <td>Urban</td>\n",
       "      <td>Non-public</td>\n",
       "      <td>EID</td>\n",
       "      <td>Standard</td>\n",
       "      <td>21.0</td>\n",
       "      <td>2BCEE</td>\n",
       "      <td>Female</td>\n",
       "      <td>Does not qualify</td>\n",
       "      <td>72.0</td>\n",
       "      <td>0</td>\n",
       "    </tr>\n",
       "    <tr>\n",
       "      <th>2031</th>\n",
       "      <td>ZOWMK</td>\n",
       "      <td>Urban</td>\n",
       "      <td>Public</td>\n",
       "      <td>CII</td>\n",
       "      <td>Standard</td>\n",
       "      <td>27.0</td>\n",
       "      <td>KEX5T</td>\n",
       "      <td>Female</td>\n",
       "      <td>Qualifies for reduced/free lunch</td>\n",
       "      <td>52.0</td>\n",
       "      <td>1</td>\n",
       "    </tr>\n",
       "    <tr>\n",
       "      <th>2074</th>\n",
       "      <td>ZOWMK</td>\n",
       "      <td>Urban</td>\n",
       "      <td>Public</td>\n",
       "      <td>QA2</td>\n",
       "      <td>Standard</td>\n",
       "      <td>30.0</td>\n",
       "      <td>0FC2B</td>\n",
       "      <td>Female</td>\n",
       "      <td>Does not qualify</td>\n",
       "      <td>43.0</td>\n",
       "      <td>1</td>\n",
       "    </tr>\n",
       "    <tr>\n",
       "      <th>...</th>\n",
       "      <td>...</td>\n",
       "      <td>...</td>\n",
       "      <td>...</td>\n",
       "      <td>...</td>\n",
       "      <td>...</td>\n",
       "      <td>...</td>\n",
       "      <td>...</td>\n",
       "      <td>...</td>\n",
       "      <td>...</td>\n",
       "      <td>...</td>\n",
       "      <td>...</td>\n",
       "    </tr>\n",
       "    <tr>\n",
       "      <th>582</th>\n",
       "      <td>GJJHK</td>\n",
       "      <td>Suburban</td>\n",
       "      <td>Public</td>\n",
       "      <td>YUC</td>\n",
       "      <td>Standard</td>\n",
       "      <td>21.0</td>\n",
       "      <td>K6QF7</td>\n",
       "      <td>Female</td>\n",
       "      <td>Qualifies for reduced/free lunch</td>\n",
       "      <td>42.0</td>\n",
       "      <td>0</td>\n",
       "    </tr>\n",
       "    <tr>\n",
       "      <th>1949</th>\n",
       "      <td>ZMNYA</td>\n",
       "      <td>Suburban</td>\n",
       "      <td>Public</td>\n",
       "      <td>1UU</td>\n",
       "      <td>Experimental</td>\n",
       "      <td>24.0</td>\n",
       "      <td>5SPC0</td>\n",
       "      <td>Female</td>\n",
       "      <td>Does not qualify</td>\n",
       "      <td>65.0</td>\n",
       "      <td>1</td>\n",
       "    </tr>\n",
       "    <tr>\n",
       "      <th>2044</th>\n",
       "      <td>ZOWMK</td>\n",
       "      <td>Urban</td>\n",
       "      <td>Public</td>\n",
       "      <td>Q0E</td>\n",
       "      <td>Experimental</td>\n",
       "      <td>30.0</td>\n",
       "      <td>0WLKR</td>\n",
       "      <td>Male</td>\n",
       "      <td>Qualifies for reduced/free lunch</td>\n",
       "      <td>25.0</td>\n",
       "      <td>1</td>\n",
       "    </tr>\n",
       "    <tr>\n",
       "      <th>487</th>\n",
       "      <td>FBUMG</td>\n",
       "      <td>Rural</td>\n",
       "      <td>Non-public</td>\n",
       "      <td>JGD</td>\n",
       "      <td>Experimental</td>\n",
       "      <td>14.0</td>\n",
       "      <td>3BUJG</td>\n",
       "      <td>Male</td>\n",
       "      <td>Does not qualify</td>\n",
       "      <td>58.0</td>\n",
       "      <td>0</td>\n",
       "    </tr>\n",
       "    <tr>\n",
       "      <th>569</th>\n",
       "      <td>GJJHK</td>\n",
       "      <td>Suburban</td>\n",
       "      <td>Public</td>\n",
       "      <td>YUC</td>\n",
       "      <td>Standard</td>\n",
       "      <td>21.0</td>\n",
       "      <td>0G5ME</td>\n",
       "      <td>Female</td>\n",
       "      <td>Qualifies for reduced/free lunch</td>\n",
       "      <td>52.0</td>\n",
       "      <td>0</td>\n",
       "    </tr>\n",
       "  </tbody>\n",
       "</table>\n",
       "<p>1706 rows × 11 columns</p>\n",
       "</div>"
      ],
      "text/plain": [
       "     school school_setting school_type classroom teaching_method  n_student  \\\n",
       "941   KFZMY          Urban  Non-public       1VD    Experimental       27.0   \n",
       "728   GOOBU          Urban      Public       CXC        Standard       24.0   \n",
       "171   CIMBB          Urban  Non-public       EID        Standard       21.0   \n",
       "2031  ZOWMK          Urban      Public       CII        Standard       27.0   \n",
       "2074  ZOWMK          Urban      Public       QA2        Standard       30.0   \n",
       "...     ...            ...         ...       ...             ...        ...   \n",
       "582   GJJHK       Suburban      Public       YUC        Standard       21.0   \n",
       "1949  ZMNYA       Suburban      Public       1UU    Experimental       24.0   \n",
       "2044  ZOWMK          Urban      Public       Q0E    Experimental       30.0   \n",
       "487   FBUMG          Rural  Non-public       JGD    Experimental       14.0   \n",
       "569   GJJHK       Suburban      Public       YUC        Standard       21.0   \n",
       "\n",
       "     student_id  gender                             lunch  pretest  \\\n",
       "941       C2UIR  Female                  Does not qualify     45.0   \n",
       "728       JX5I4  Female  Qualifies for reduced/free lunch     33.0   \n",
       "171       2BCEE  Female                  Does not qualify     72.0   \n",
       "2031      KEX5T  Female  Qualifies for reduced/free lunch     52.0   \n",
       "2074      0FC2B  Female                  Does not qualify     43.0   \n",
       "...         ...     ...                               ...      ...   \n",
       "582       K6QF7  Female  Qualifies for reduced/free lunch     42.0   \n",
       "1949      5SPC0  Female                  Does not qualify     65.0   \n",
       "2044      0WLKR    Male  Qualifies for reduced/free lunch     25.0   \n",
       "487       3BUJG    Male                  Does not qualify     58.0   \n",
       "569       0G5ME  Female  Qualifies for reduced/free lunch     52.0   \n",
       "\n",
       "      number_students  \n",
       "941                 1  \n",
       "728                 1  \n",
       "171                 0  \n",
       "2031                1  \n",
       "2074                1  \n",
       "...               ...  \n",
       "582                 0  \n",
       "1949                1  \n",
       "2044                1  \n",
       "487                 0  \n",
       "569                 0  \n",
       "\n",
       "[1706 rows x 11 columns]"
      ]
     },
     "execution_count": 24,
     "metadata": {},
     "output_type": "execute_result"
    }
   ],
   "source": [
    "X_train"
   ]
  },
  {
   "cell_type": "code",
   "execution_count": 25,
   "metadata": {},
   "outputs": [
    {
     "data": {
      "text/plain": [
       "Does not qualify                    968\n",
       "Qualifies for reduced/free lunch    738\n",
       "Name: lunch, dtype: int64"
      ]
     },
     "execution_count": 25,
     "metadata": {},
     "output_type": "execute_result"
    }
   ],
   "source": [
    "X_train.lunch.value_counts()"
   ]
  },
  {
   "cell_type": "code",
   "execution_count": 26,
   "metadata": {},
   "outputs": [
    {
     "data": {
      "text/plain": [
       "<AxesSubplot:xlabel='lunch', ylabel='posttest'>"
      ]
     },
     "execution_count": 26,
     "metadata": {},
     "output_type": "execute_result"
    },
    {
     "data": {
      "image/png": "[encoded data removed]",
      "text/plain": [
       "<Figure size 576x396 with 1 Axes>"
      ]
     },
     "metadata": {},
     "output_type": "display_data"
    }
   ],
   "source": [
    "sns.boxplot(x = X_train.lunch, y = y_train)\n",
    "\n",
    "#the lunch variable looks relevant... those who do not qualify for reduced/free lunch seem to have better scores"
   ]
  },
  {
   "cell_type": "code",
   "execution_count": 27,
   "metadata": {},
   "outputs": [
    {
     "data": {
      "text/plain": [
       "<AxesSubplot:xlabel='pretest', ylabel='posttest'>"
      ]
     },
     "execution_count": 27,
     "metadata": {},
     "output_type": "execute_result"
    },
    {
     "data": {
      "image/png": "[encoded data removed]",
      "text/plain": [
       "<Figure size 576x396 with 1 Axes>"
      ]
     },
     "metadata": {},
     "output_type": "display_data"
    }
   ],
   "source": [
    "sns.scatterplot(x = X_train.pretest, y = y_train)\n",
    "\n",
    "#there is a very strong correlation between the pre-test scores and the score at the final test"
   ]
  },
  {
   "cell_type": "code",
   "execution_count": 28,
   "metadata": {},
   "outputs": [
    {
     "data": {
      "text/plain": [
       "Index(['school', 'school_setting', 'school_type', 'classroom',\n",
       "       'teaching_method', 'n_student', 'student_id', 'gender', 'lunch',\n",
       "       'pretest', 'number_students'],\n",
       "      dtype='object')"
      ]
     },
     "execution_count": 28,
     "metadata": {},
     "output_type": "execute_result"
    }
   ],
   "source": [
    "X_train.columns"
   ]
  },
  {
   "cell_type": "code",
   "execution_count": null,
   "metadata": {},
   "outputs": [],
   "source": []
  },
  {
   "cell_type": "code",
   "execution_count": null,
   "metadata": {},
   "outputs": [],
   "source": []
  },
  {
   "cell_type": "markdown",
   "metadata": {},
   "source": [
    "## SIMPLE LINEAR REGRESSION (1 PREDICTOR = PRETEST SCORE)"
   ]
  },
  {
   "cell_type": "markdown",
   "metadata": {},
   "source": [
    "I will create first a model with the pretest variable only...I will try different algorithms and use the best result as a benchmark\n",
    "Then I will try adding more features and see if they help improve the predictions accuracy"
   ]
  },
  {
   "cell_type": "code",
   "execution_count": 29,
   "metadata": {},
   "outputs": [],
   "source": [
    "linear = LinearRegression()"
   ]
  },
  {
   "cell_type": "code",
   "execution_count": 30,
   "metadata": {},
   "outputs": [
    {
     "data": {
      "text/plain": [
       "school              object\n",
       "school_setting      object\n",
       "school_type         object\n",
       "classroom           object\n",
       "teaching_method     object\n",
       "n_student          float64\n",
       "student_id          object\n",
       "gender              object\n",
       "lunch               object\n",
       "pretest            float64\n",
       "posttest           float64\n",
       "dtype: object"
      ]
     },
     "execution_count": 30,
     "metadata": {},
     "output_type": "execute_result"
    }
   ],
   "source": [
    "df.dtypes"
   ]
  },
  {
   "cell_type": "code",
   "execution_count": 31,
   "metadata": {},
   "outputs": [],
   "source": [
    "X_train_linear, y_train_linear, X_test_linear, y_test_linear = train_test_split(df.pretest, df.posttest, test_size = 0.20 )"
   ]
  },
  {
   "cell_type": "code",
   "execution_count": 32,
   "metadata": {},
   "outputs": [
    {
     "data": {
      "text/plain": [
       "LinearRegression()"
      ]
     },
     "execution_count": 32,
     "metadata": {},
     "output_type": "execute_result"
    }
   ],
   "source": [
    "linear.fit(np.array(X_train.pretest).reshape(-1,1), y_train)"
   ]
  },
  {
   "cell_type": "code",
   "execution_count": 33,
   "metadata": {},
   "outputs": [],
   "source": [
    "predictions_linear = linear.predict(np.array(X_test.pretest).reshape(-1,1))"
   ]
  },
  {
   "cell_type": "code",
   "execution_count": 34,
   "metadata": {},
   "outputs": [
    {
     "data": {
      "text/plain": [
       "19.3242392013343"
      ]
     },
     "execution_count": 34,
     "metadata": {},
     "output_type": "execute_result"
    }
   ],
   "source": [
    "mean_squared_error(y_test, predictions_linear)\n",
    "\n",
    "#MSE"
   ]
  },
  {
   "cell_type": "code",
   "execution_count": 35,
   "metadata": {},
   "outputs": [
    {
     "data": {
      "text/plain": [
       "4.395934394566678"
      ]
     },
     "execution_count": 35,
     "metadata": {},
     "output_type": "execute_result"
    }
   ],
   "source": [
    "np.sqrt(mean_squared_error(y_test, predictions_linear))\n",
    "\n",
    "#RMSE"
   ]
  },
  {
   "cell_type": "code",
   "execution_count": 36,
   "metadata": {},
   "outputs": [
    {
     "data": {
      "text/plain": [
       "3.5665728039203235"
      ]
     },
     "execution_count": 36,
     "metadata": {},
     "output_type": "execute_result"
    }
   ],
   "source": [
    "mean_absolute_error(y_test, predictions_linear)"
   ]
  },
  {
   "cell_type": "code",
   "execution_count": 37,
   "metadata": {},
   "outputs": [
    {
     "data": {
      "image/png": "[encoded data removed]",
      "text/plain": [
       "<Figure size 576x396 with 2 Axes>"
      ]
     },
     "metadata": {},
     "output_type": "display_data"
    },
    {
     "data": {
      "text/plain": [
       "<AxesSubplot:title={'center':'Residuals for LinearRegression Model'}, xlabel='Predicted Value', ylabel='Residuals'>"
      ]
     },
     "execution_count": 37,
     "metadata": {},
     "output_type": "execute_result"
    }
   ],
   "source": [
    "visualizer = ResidualsPlot(linear)\n",
    "\n",
    "visualizer.fit(np.array(X_train.pretest).reshape(-1,1), y_train)  # Fit the training data to the visualizer\n",
    "visualizer.score(np.array(X_test.pretest).reshape(-1,1), y_test)  # Evaluate the model on the test data\n",
    "visualizer.show()     "
   ]
  },
  {
   "cell_type": "markdown",
   "metadata": {},
   "source": [
    "These RMSE, MSE and MAE errors will be my benchmark"
   ]
  },
  {
   "cell_type": "code",
   "execution_count": null,
   "metadata": {},
   "outputs": [],
   "source": []
  },
  {
   "cell_type": "markdown",
   "metadata": {},
   "source": [
    "### SELECTING ONLY RELEVANT VARIABLES"
   ]
  },
  {
   "cell_type": "code",
   "execution_count": 38,
   "metadata": {},
   "outputs": [],
   "source": [
    "X_train = X_train[['school', 'school_setting', 'school_type',\n",
    "       'teaching_method','n_student', 'gender', 'lunch',\n",
    "       'pretest']]"
   ]
  },
  {
   "cell_type": "code",
   "execution_count": 39,
   "metadata": {},
   "outputs": [
    {
     "data": {
      "text/html": [
       "<div>\n",
       "<style scoped>\n",
       "    .dataframe tbody tr th:only-of-type {\n",
       "        vertical-align: middle;\n",
       "    }\n",
       "\n",
       "    .dataframe tbody tr th {\n",
       "        vertical-align: top;\n",
       "    }\n",
       "\n",
       "    .dataframe thead th {\n",
       "        text-align: right;\n",
       "    }\n",
       "</style>\n",
       "<table border=\"1\" class=\"dataframe\">\n",
       "  <thead>\n",
       "    <tr style=\"text-align: right;\">\n",
       "      <th></th>\n",
       "      <th>school</th>\n",
       "      <th>school_setting</th>\n",
       "      <th>school_type</th>\n",
       "      <th>teaching_method</th>\n",
       "      <th>n_student</th>\n",
       "      <th>gender</th>\n",
       "      <th>lunch</th>\n",
       "      <th>pretest</th>\n",
       "    </tr>\n",
       "  </thead>\n",
       "  <tbody>\n",
       "    <tr>\n",
       "      <th>941</th>\n",
       "      <td>KFZMY</td>\n",
       "      <td>Urban</td>\n",
       "      <td>Non-public</td>\n",
       "      <td>Experimental</td>\n",
       "      <td>27.0</td>\n",
       "      <td>Female</td>\n",
       "      <td>Does not qualify</td>\n",
       "      <td>45.0</td>\n",
       "    </tr>\n",
       "    <tr>\n",
       "      <th>728</th>\n",
       "      <td>GOOBU</td>\n",
       "      <td>Urban</td>\n",
       "      <td>Public</td>\n",
       "      <td>Standard</td>\n",
       "      <td>24.0</td>\n",
       "      <td>Female</td>\n",
       "      <td>Qualifies for reduced/free lunch</td>\n",
       "      <td>33.0</td>\n",
       "    </tr>\n",
       "    <tr>\n",
       "      <th>171</th>\n",
       "      <td>CIMBB</td>\n",
       "      <td>Urban</td>\n",
       "      <td>Non-public</td>\n",
       "      <td>Standard</td>\n",
       "      <td>21.0</td>\n",
       "      <td>Female</td>\n",
       "      <td>Does not qualify</td>\n",
       "      <td>72.0</td>\n",
       "    </tr>\n",
       "    <tr>\n",
       "      <th>2031</th>\n",
       "      <td>ZOWMK</td>\n",
       "      <td>Urban</td>\n",
       "      <td>Public</td>\n",
       "      <td>Standard</td>\n",
       "      <td>27.0</td>\n",
       "      <td>Female</td>\n",
       "      <td>Qualifies for reduced/free lunch</td>\n",
       "      <td>52.0</td>\n",
       "    </tr>\n",
       "    <tr>\n",
       "      <th>2074</th>\n",
       "      <td>ZOWMK</td>\n",
       "      <td>Urban</td>\n",
       "      <td>Public</td>\n",
       "      <td>Standard</td>\n",
       "      <td>30.0</td>\n",
       "      <td>Female</td>\n",
       "      <td>Does not qualify</td>\n",
       "      <td>43.0</td>\n",
       "    </tr>\n",
       "    <tr>\n",
       "      <th>...</th>\n",
       "      <td>...</td>\n",
       "      <td>...</td>\n",
       "      <td>...</td>\n",
       "      <td>...</td>\n",
       "      <td>...</td>\n",
       "      <td>...</td>\n",
       "      <td>...</td>\n",
       "      <td>...</td>\n",
       "    </tr>\n",
       "    <tr>\n",
       "      <th>582</th>\n",
       "      <td>GJJHK</td>\n",
       "      <td>Suburban</td>\n",
       "      <td>Public</td>\n",
       "      <td>Standard</td>\n",
       "      <td>21.0</td>\n",
       "      <td>Female</td>\n",
       "      <td>Qualifies for reduced/free lunch</td>\n",
       "      <td>42.0</td>\n",
       "    </tr>\n",
       "    <tr>\n",
       "      <th>1949</th>\n",
       "      <td>ZMNYA</td>\n",
       "      <td>Suburban</td>\n",
       "      <td>Public</td>\n",
       "      <td>Experimental</td>\n",
       "      <td>24.0</td>\n",
       "      <td>Female</td>\n",
       "      <td>Does not qualify</td>\n",
       "      <td>65.0</td>\n",
       "    </tr>\n",
       "    <tr>\n",
       "      <th>2044</th>\n",
       "      <td>ZOWMK</td>\n",
       "      <td>Urban</td>\n",
       "      <td>Public</td>\n",
       "      <td>Experimental</td>\n",
       "      <td>30.0</td>\n",
       "      <td>Male</td>\n",
       "      <td>Qualifies for reduced/free lunch</td>\n",
       "      <td>25.0</td>\n",
       "    </tr>\n",
       "    <tr>\n",
       "      <th>487</th>\n",
       "      <td>FBUMG</td>\n",
       "      <td>Rural</td>\n",
       "      <td>Non-public</td>\n",
       "      <td>Experimental</td>\n",
       "      <td>14.0</td>\n",
       "      <td>Male</td>\n",
       "      <td>Does not qualify</td>\n",
       "      <td>58.0</td>\n",
       "    </tr>\n",
       "    <tr>\n",
       "      <th>569</th>\n",
       "      <td>GJJHK</td>\n",
       "      <td>Suburban</td>\n",
       "      <td>Public</td>\n",
       "      <td>Standard</td>\n",
       "      <td>21.0</td>\n",
       "      <td>Female</td>\n",
       "      <td>Qualifies for reduced/free lunch</td>\n",
       "      <td>52.0</td>\n",
       "    </tr>\n",
       "  </tbody>\n",
       "</table>\n",
       "<p>1706 rows × 8 columns</p>\n",
       "</div>"
      ],
      "text/plain": [
       "     school school_setting school_type teaching_method  n_student  gender  \\\n",
       "941   KFZMY          Urban  Non-public    Experimental       27.0  Female   \n",
       "728   GOOBU          Urban      Public        Standard       24.0  Female   \n",
       "171   CIMBB          Urban  Non-public        Standard       21.0  Female   \n",
       "2031  ZOWMK          Urban      Public        Standard       27.0  Female   \n",
       "2074  ZOWMK          Urban      Public        Standard       30.0  Female   \n",
       "...     ...            ...         ...             ...        ...     ...   \n",
       "582   GJJHK       Suburban      Public        Standard       21.0  Female   \n",
       "1949  ZMNYA       Suburban      Public    Experimental       24.0  Female   \n",
       "2044  ZOWMK          Urban      Public    Experimental       30.0    Male   \n",
       "487   FBUMG          Rural  Non-public    Experimental       14.0    Male   \n",
       "569   GJJHK       Suburban      Public        Standard       21.0  Female   \n",
       "\n",
       "                                 lunch  pretest  \n",
       "941                   Does not qualify     45.0  \n",
       "728   Qualifies for reduced/free lunch     33.0  \n",
       "171                   Does not qualify     72.0  \n",
       "2031  Qualifies for reduced/free lunch     52.0  \n",
       "2074                  Does not qualify     43.0  \n",
       "...                                ...      ...  \n",
       "582   Qualifies for reduced/free lunch     42.0  \n",
       "1949                  Does not qualify     65.0  \n",
       "2044  Qualifies for reduced/free lunch     25.0  \n",
       "487                   Does not qualify     58.0  \n",
       "569   Qualifies for reduced/free lunch     52.0  \n",
       "\n",
       "[1706 rows x 8 columns]"
      ]
     },
     "execution_count": 39,
     "metadata": {},
     "output_type": "execute_result"
    }
   ],
   "source": [
    "X_train"
   ]
  },
  {
   "cell_type": "code",
   "execution_count": 40,
   "metadata": {},
   "outputs": [],
   "source": [
    "X_test[\"number_students\"] = X_test.n_student.apply(lambda x: 1 if x > 23 else 0)"
   ]
  },
  {
   "cell_type": "code",
   "execution_count": 41,
   "metadata": {},
   "outputs": [],
   "source": [
    "X_test = X_test[['school', 'school_setting', 'school_type',\n",
    "       'teaching_method', 'n_student','gender', 'lunch',\n",
    "       'pretest']]"
   ]
  },
  {
   "cell_type": "code",
   "execution_count": 42,
   "metadata": {},
   "outputs": [
    {
     "data": {
      "text/html": [
       "<div>\n",
       "<style scoped>\n",
       "    .dataframe tbody tr th:only-of-type {\n",
       "        vertical-align: middle;\n",
       "    }\n",
       "\n",
       "    .dataframe tbody tr th {\n",
       "        vertical-align: top;\n",
       "    }\n",
       "\n",
       "    .dataframe thead th {\n",
       "        text-align: right;\n",
       "    }\n",
       "</style>\n",
       "<table border=\"1\" class=\"dataframe\">\n",
       "  <thead>\n",
       "    <tr style=\"text-align: right;\">\n",
       "      <th></th>\n",
       "      <th>school</th>\n",
       "      <th>school_setting</th>\n",
       "      <th>school_type</th>\n",
       "      <th>teaching_method</th>\n",
       "      <th>n_student</th>\n",
       "      <th>gender</th>\n",
       "      <th>lunch</th>\n",
       "      <th>pretest</th>\n",
       "    </tr>\n",
       "  </thead>\n",
       "  <tbody>\n",
       "    <tr>\n",
       "      <th>162</th>\n",
       "      <td>CIMBB</td>\n",
       "      <td>Urban</td>\n",
       "      <td>Non-public</td>\n",
       "      <td>Standard</td>\n",
       "      <td>19.0</td>\n",
       "      <td>Male</td>\n",
       "      <td>Does not qualify</td>\n",
       "      <td>61.0</td>\n",
       "    </tr>\n",
       "    <tr>\n",
       "      <th>441</th>\n",
       "      <td>DNQDD</td>\n",
       "      <td>Suburban</td>\n",
       "      <td>Public</td>\n",
       "      <td>Standard</td>\n",
       "      <td>27.0</td>\n",
       "      <td>Male</td>\n",
       "      <td>Qualifies for reduced/free lunch</td>\n",
       "      <td>57.0</td>\n",
       "    </tr>\n",
       "    <tr>\n",
       "      <th>831</th>\n",
       "      <td>GOOBU</td>\n",
       "      <td>Urban</td>\n",
       "      <td>Public</td>\n",
       "      <td>Experimental</td>\n",
       "      <td>26.0</td>\n",
       "      <td>Female</td>\n",
       "      <td>Qualifies for reduced/free lunch</td>\n",
       "      <td>40.0</td>\n",
       "    </tr>\n",
       "    <tr>\n",
       "      <th>721</th>\n",
       "      <td>GOOBU</td>\n",
       "      <td>Urban</td>\n",
       "      <td>Public</td>\n",
       "      <td>Standard</td>\n",
       "      <td>24.0</td>\n",
       "      <td>Female</td>\n",
       "      <td>Qualifies for reduced/free lunch</td>\n",
       "      <td>33.0</td>\n",
       "    </tr>\n",
       "    <tr>\n",
       "      <th>734</th>\n",
       "      <td>GOOBU</td>\n",
       "      <td>Urban</td>\n",
       "      <td>Public</td>\n",
       "      <td>Standard</td>\n",
       "      <td>24.0</td>\n",
       "      <td>Male</td>\n",
       "      <td>Qualifies for reduced/free lunch</td>\n",
       "      <td>29.0</td>\n",
       "    </tr>\n",
       "    <tr>\n",
       "      <th>...</th>\n",
       "      <td>...</td>\n",
       "      <td>...</td>\n",
       "      <td>...</td>\n",
       "      <td>...</td>\n",
       "      <td>...</td>\n",
       "      <td>...</td>\n",
       "      <td>...</td>\n",
       "      <td>...</td>\n",
       "    </tr>\n",
       "    <tr>\n",
       "      <th>805</th>\n",
       "      <td>GOOBU</td>\n",
       "      <td>Urban</td>\n",
       "      <td>Public</td>\n",
       "      <td>Standard</td>\n",
       "      <td>25.0</td>\n",
       "      <td>Male</td>\n",
       "      <td>Qualifies for reduced/free lunch</td>\n",
       "      <td>37.0</td>\n",
       "    </tr>\n",
       "    <tr>\n",
       "      <th>436</th>\n",
       "      <td>DNQDD</td>\n",
       "      <td>Suburban</td>\n",
       "      <td>Public</td>\n",
       "      <td>Standard</td>\n",
       "      <td>27.0</td>\n",
       "      <td>Female</td>\n",
       "      <td>Qualifies for reduced/free lunch</td>\n",
       "      <td>60.0</td>\n",
       "    </tr>\n",
       "    <tr>\n",
       "      <th>61</th>\n",
       "      <td>CCAAW</td>\n",
       "      <td>Suburban</td>\n",
       "      <td>Non-public</td>\n",
       "      <td>Experimental</td>\n",
       "      <td>20.0</td>\n",
       "      <td>Male</td>\n",
       "      <td>Does not qualify</td>\n",
       "      <td>66.0</td>\n",
       "    </tr>\n",
       "    <tr>\n",
       "      <th>1507</th>\n",
       "      <td>UKPGS</td>\n",
       "      <td>Suburban</td>\n",
       "      <td>Public</td>\n",
       "      <td>Standard</td>\n",
       "      <td>25.0</td>\n",
       "      <td>Male</td>\n",
       "      <td>Does not qualify</td>\n",
       "      <td>83.0</td>\n",
       "    </tr>\n",
       "    <tr>\n",
       "      <th>1797</th>\n",
       "      <td>VKWQH</td>\n",
       "      <td>Rural</td>\n",
       "      <td>Public</td>\n",
       "      <td>Standard</td>\n",
       "      <td>20.0</td>\n",
       "      <td>Male</td>\n",
       "      <td>Does not qualify</td>\n",
       "      <td>49.0</td>\n",
       "    </tr>\n",
       "  </tbody>\n",
       "</table>\n",
       "<p>427 rows × 8 columns</p>\n",
       "</div>"
      ],
      "text/plain": [
       "     school school_setting school_type teaching_method  n_student  gender  \\\n",
       "162   CIMBB          Urban  Non-public        Standard       19.0    Male   \n",
       "441   DNQDD       Suburban      Public        Standard       27.0    Male   \n",
       "831   GOOBU          Urban      Public    Experimental       26.0  Female   \n",
       "721   GOOBU          Urban      Public        Standard       24.0  Female   \n",
       "734   GOOBU          Urban      Public        Standard       24.0    Male   \n",
       "...     ...            ...         ...             ...        ...     ...   \n",
       "805   GOOBU          Urban      Public        Standard       25.0    Male   \n",
       "436   DNQDD       Suburban      Public        Standard       27.0  Female   \n",
       "61    CCAAW       Suburban  Non-public    Experimental       20.0    Male   \n",
       "1507  UKPGS       Suburban      Public        Standard       25.0    Male   \n",
       "1797  VKWQH          Rural      Public        Standard       20.0    Male   \n",
       "\n",
       "                                 lunch  pretest  \n",
       "162                   Does not qualify     61.0  \n",
       "441   Qualifies for reduced/free lunch     57.0  \n",
       "831   Qualifies for reduced/free lunch     40.0  \n",
       "721   Qualifies for reduced/free lunch     33.0  \n",
       "734   Qualifies for reduced/free lunch     29.0  \n",
       "...                                ...      ...  \n",
       "805   Qualifies for reduced/free lunch     37.0  \n",
       "436   Qualifies for reduced/free lunch     60.0  \n",
       "61                    Does not qualify     66.0  \n",
       "1507                  Does not qualify     83.0  \n",
       "1797                  Does not qualify     49.0  \n",
       "\n",
       "[427 rows x 8 columns]"
      ]
     },
     "execution_count": 42,
     "metadata": {},
     "output_type": "execute_result"
    }
   ],
   "source": [
    "X_test"
   ]
  },
  {
   "cell_type": "markdown",
   "metadata": {},
   "source": [
    "## KNN"
   ]
  },
  {
   "cell_type": "code",
   "execution_count": 43,
   "metadata": {},
   "outputs": [],
   "source": [
    "mkt = make_column_transformer((OneHotEncoder(), ['school', 'school_setting', 'school_type',\n",
    "       'teaching_method','gender', 'n_student','lunch']), remainder='passthrough')"
   ]
  },
  {
   "cell_type": "code",
   "execution_count": 44,
   "metadata": {},
   "outputs": [],
   "source": [
    "knn = KNeighborsRegressor()\n",
    "paramsKNN = {\"kneighborsregressor__n_neighbors\": [3,5,6,7,8,10,12], \"kneighborsregressor__weights\": ['uniform', 'distance'], \"kneighborsregressor__p\": [1,2]}"
   ]
  },
  {
   "cell_type": "code",
   "execution_count": 45,
   "metadata": {},
   "outputs": [],
   "source": [
    "pipe_knn = make_pipeline(mkt, knn)"
   ]
  },
  {
   "cell_type": "code",
   "execution_count": 46,
   "metadata": {},
   "outputs": [],
   "source": [
    "grid_knn = GridSearchCV(pipe_knn, param_grid = paramsKNN, cv = 5, scoring=\"neg_mean_absolute_error\")"
   ]
  },
  {
   "cell_type": "code",
   "execution_count": 47,
   "metadata": {},
   "outputs": [
    {
     "data": {
      "text/plain": [
       "GridSearchCV(cv=5,\n",
       "             estimator=Pipeline(steps=[('columntransformer',\n",
       "                                        ColumnTransformer(remainder='passthrough',\n",
       "                                                          transformers=[('onehotencoder',\n",
       "                                                                         OneHotEncoder(),\n",
       "                                                                         ['school',\n",
       "                                                                          'school_setting',\n",
       "                                                                          'school_type',\n",
       "                                                                          'teaching_method',\n",
       "                                                                          'gender',\n",
       "                                                                          'n_student',\n",
       "                                                                          'lunch'])])),\n",
       "                                       ('kneighborsregressor',\n",
       "                                        KNeighborsRegressor())]),\n",
       "             param_grid={'kneighborsregressor__n_neighbors': [3, 5, 6, 7, 8, 10,\n",
       "                                                              12],\n",
       "                         'kneighborsregressor__p': [1, 2],\n",
       "                         'kneighborsregressor__weights': ['uniform',\n",
       "                                                          'distance']},\n",
       "             scoring='neg_mean_absolute_error')"
      ]
     },
     "execution_count": 47,
     "metadata": {},
     "output_type": "execute_result"
    }
   ],
   "source": [
    "grid_knn.fit(X_train, y_train)"
   ]
  },
  {
   "cell_type": "code",
   "execution_count": 48,
   "metadata": {},
   "outputs": [
    {
     "data": {
      "text/plain": [
       "-2.412747737705293"
      ]
     },
     "execution_count": 48,
     "metadata": {},
     "output_type": "execute_result"
    }
   ],
   "source": [
    "grid_knn.best_score_"
   ]
  },
  {
   "cell_type": "code",
   "execution_count": 49,
   "metadata": {},
   "outputs": [
    {
     "data": {
      "text/plain": [
       "{'kneighborsregressor__n_neighbors': 6,\n",
       " 'kneighborsregressor__p': 1,\n",
       " 'kneighborsregressor__weights': 'uniform'}"
      ]
     },
     "execution_count": 49,
     "metadata": {},
     "output_type": "execute_result"
    }
   ],
   "source": [
    "grid_knn.best_params_"
   ]
  },
  {
   "cell_type": "code",
   "execution_count": 50,
   "metadata": {},
   "outputs": [
    {
     "data": {
      "text/plain": [
       "2.573380171740828"
      ]
     },
     "execution_count": 50,
     "metadata": {},
     "output_type": "execute_result"
    }
   ],
   "source": [
    "y_pred_KNN = grid_knn.predict(X_test)\n",
    "mean_absolute_error(y_test, y_pred_KNN)\n",
    "\n",
    "#significant improvement compared to the simple linear regression"
   ]
  },
  {
   "cell_type": "code",
   "execution_count": 51,
   "metadata": {},
   "outputs": [
    {
     "name": "stdout",
     "output_type": "stream",
     "text": [
      "10.845238095238093\n",
      "3.293210909619682\n"
     ]
    }
   ],
   "source": [
    "print(mean_squared_error(y_test, y_pred_KNN))\n",
    "print(np.sqrt(mean_squared_error(y_test, y_pred_KNN)))"
   ]
  },
  {
   "cell_type": "code",
   "execution_count": 52,
   "metadata": {},
   "outputs": [
    {
     "data": {
      "image/png": "[encoded data removed]",
      "text/plain": [
       "<Figure size 576x396 with 2 Axes>"
      ]
     },
     "metadata": {},
     "output_type": "display_data"
    },
    {
     "data": {
      "text/plain": [
       "<AxesSubplot:title={'center':'Residuals for KNeighborsRegressor Model'}, xlabel='Predicted Value', ylabel='Residuals'>"
      ]
     },
     "execution_count": 52,
     "metadata": {},
     "output_type": "execute_result"
    }
   ],
   "source": [
    "model = grid_knn.best_estimator_\n",
    "visualizer = ResidualsPlot(model)\n",
    "\n",
    "visualizer.fit(X_train, y_train)  # Fit the training data to the visualizer\n",
    "visualizer.score(X_test, y_test)  # Evaluate the model on the test data\n",
    "visualizer.show()"
   ]
  },
  {
   "cell_type": "code",
   "execution_count": null,
   "metadata": {},
   "outputs": [],
   "source": []
  },
  {
   "cell_type": "markdown",
   "metadata": {},
   "source": [
    "## DECISION TREE"
   ]
  },
  {
   "cell_type": "code",
   "execution_count": 53,
   "metadata": {},
   "outputs": [],
   "source": [
    "decTree = DecisionTreeRegressor()\n",
    "paramsDecTree = {\"decisiontreeregressor__criterion\": ['mse', 'mae'], \"decisiontreeregressor__max_depth\": [2,3,4,5,6,7], \"decisiontreeregressor__random_state\": [3]}"
   ]
  },
  {
   "cell_type": "code",
   "execution_count": 54,
   "metadata": {},
   "outputs": [],
   "source": [
    "pipe_decTree = make_pipeline(mkt, decTree)"
   ]
  },
  {
   "cell_type": "code",
   "execution_count": 55,
   "metadata": {},
   "outputs": [],
   "source": [
    "grid_decTree = GridSearchCV(pipe_decTree, param_grid = paramsDecTree, cv = 5, scoring=\"neg_mean_absolute_error\")"
   ]
  },
  {
   "cell_type": "code",
   "execution_count": 56,
   "metadata": {},
   "outputs": [
    {
     "data": {
      "text/plain": [
       "GridSearchCV(cv=5,\n",
       "             estimator=Pipeline(steps=[('columntransformer',\n",
       "                                        ColumnTransformer(remainder='passthrough',\n",
       "                                                          transformers=[('onehotencoder',\n",
       "                                                                         OneHotEncoder(),\n",
       "                                                                         ['school',\n",
       "                                                                          'school_setting',\n",
       "                                                                          'school_type',\n",
       "                                                                          'teaching_method',\n",
       "                                                                          'gender',\n",
       "                                                                          'n_student',\n",
       "                                                                          'lunch'])])),\n",
       "                                       ('decisiontreeregressor',\n",
       "                                        DecisionTreeRegressor())]),\n",
       "             param_grid={'decisiontreeregressor__criterion': ['mse', 'mae'],\n",
       "                         'decisiontreeregressor__max_depth': [2, 3, 4, 5, 6, 7],\n",
       "                         'decisiontreeregressor__random_state': [3]},\n",
       "             scoring='neg_mean_absolute_error')"
      ]
     },
     "execution_count": 56,
     "metadata": {},
     "output_type": "execute_result"
    }
   ],
   "source": [
    "grid_decTree.fit(X_train, y_train)"
   ]
  },
  {
   "cell_type": "code",
   "execution_count": 57,
   "metadata": {},
   "outputs": [
    {
     "data": {
      "text/plain": [
       "-2.6535439282468145"
      ]
     },
     "execution_count": 57,
     "metadata": {},
     "output_type": "execute_result"
    }
   ],
   "source": [
    "grid_decTree.best_score_"
   ]
  },
  {
   "cell_type": "code",
   "execution_count": 58,
   "metadata": {},
   "outputs": [
    {
     "data": {
      "text/plain": [
       "{'decisiontreeregressor__criterion': 'mae',\n",
       " 'decisiontreeregressor__max_depth': 5,\n",
       " 'decisiontreeregressor__random_state': 3}"
      ]
     },
     "execution_count": 58,
     "metadata": {},
     "output_type": "execute_result"
    }
   ],
   "source": [
    "grid_decTree.best_params_"
   ]
  },
  {
   "cell_type": "code",
   "execution_count": 59,
   "metadata": {},
   "outputs": [
    {
     "data": {
      "text/plain": [
       "2.717798594847775"
      ]
     },
     "execution_count": 59,
     "metadata": {},
     "output_type": "execute_result"
    }
   ],
   "source": [
    "y_pred_decTree = grid_decTree.predict(X_test)\n",
    "mean_absolute_error(y_test, y_pred_decTree)\n",
    "\n",
    "#slightly worse than KNN"
   ]
  },
  {
   "cell_type": "code",
   "execution_count": 60,
   "metadata": {},
   "outputs": [
    {
     "name": "stdout",
     "output_type": "stream",
     "text": [
      "11.77927400468384\n",
      "3.4320946963456356\n"
     ]
    }
   ],
   "source": [
    "print(mean_squared_error(y_test, y_pred_decTree))\n",
    "print(np.sqrt(mean_squared_error(y_test, y_pred_decTree)))"
   ]
  },
  {
   "cell_type": "code",
   "execution_count": 61,
   "metadata": {
    "scrolled": false
   },
   "outputs": [
    {
     "name": "stdout",
     "output_type": "stream",
     "text": [
      "|--- feature_52 <= 54.50\n",
      "|   |--- feature_52 <= 42.50\n",
      "|   |   |--- feature_52 <= 33.50\n",
      "|   |   |   |--- feature_28 <= 0.50\n",
      "|   |   |   |   |--- feature_52 <= 26.50\n",
      "|   |   |   |   |   |--- value: [36.00]\n",
      "|   |   |   |   |--- feature_52 >  26.50\n",
      "|   |   |   |   |   |--- value: [42.00]\n",
      "|   |   |   |--- feature_28 >  0.50\n",
      "|   |   |   |   |--- feature_22 <= 0.50\n",
      "|   |   |   |   |   |--- value: [47.50]\n",
      "|   |   |   |   |--- feature_22 >  0.50\n",
      "|   |   |   |   |   |--- value: [53.50]\n",
      "|   |   |--- feature_52 >  33.50\n",
      "|   |   |   |--- feature_29 <= 0.50\n",
      "|   |   |   |   |--- feature_48 <= 0.50\n",
      "|   |   |   |   |   |--- value: [57.00]\n",
      "|   |   |   |   |--- feature_48 >  0.50\n",
      "|   |   |   |   |   |--- value: [52.00]\n",
      "|   |   |   |--- feature_29 >  0.50\n",
      "|   |   |   |   |--- feature_52 <= 37.50\n",
      "|   |   |   |   |   |--- value: [46.00]\n",
      "|   |   |   |   |--- feature_52 >  37.50\n",
      "|   |   |   |   |   |--- value: [50.00]\n",
      "|   |--- feature_52 >  42.50\n",
      "|   |   |--- feature_52 <= 47.50\n",
      "|   |   |   |--- feature_28 <= 0.50\n",
      "|   |   |   |   |--- feature_48 <= 0.50\n",
      "|   |   |   |   |   |--- value: [56.00]\n",
      "|   |   |   |   |--- feature_48 >  0.50\n",
      "|   |   |   |   |   |--- value: [52.00]\n",
      "|   |   |   |--- feature_28 >  0.50\n",
      "|   |   |   |   |--- feature_52 <= 44.50\n",
      "|   |   |   |   |   |--- value: [58.50]\n",
      "|   |   |   |   |--- feature_52 >  44.50\n",
      "|   |   |   |   |   |--- value: [63.00]\n",
      "|   |   |--- feature_52 >  47.50\n",
      "|   |   |   |--- feature_29 <= 0.50\n",
      "|   |   |   |   |--- feature_52 <= 51.50\n",
      "|   |   |   |   |   |--- value: [67.00]\n",
      "|   |   |   |   |--- feature_52 >  51.50\n",
      "|   |   |   |   |   |--- value: [69.00]\n",
      "|   |   |   |--- feature_29 >  0.50\n",
      "|   |   |   |   |--- feature_52 <= 50.50\n",
      "|   |   |   |   |   |--- value: [59.50]\n",
      "|   |   |   |   |--- feature_52 >  50.50\n",
      "|   |   |   |   |   |--- value: [62.00]\n",
      "|--- feature_52 >  54.50\n",
      "|   |--- feature_52 <= 65.50\n",
      "|   |   |--- feature_28 <= 0.50\n",
      "|   |   |   |--- feature_52 <= 60.50\n",
      "|   |   |   |   |--- feature_52 <= 57.50\n",
      "|   |   |   |   |   |--- value: [66.00]\n",
      "|   |   |   |   |--- feature_52 >  57.50\n",
      "|   |   |   |   |   |--- value: [69.00]\n",
      "|   |   |   |--- feature_52 >  60.50\n",
      "|   |   |   |   |--- feature_52 <= 63.50\n",
      "|   |   |   |   |   |--- value: [72.00]\n",
      "|   |   |   |   |--- feature_52 >  63.50\n",
      "|   |   |   |   |   |--- value: [75.00]\n",
      "|   |   |--- feature_28 >  0.50\n",
      "|   |   |   |--- feature_52 <= 61.50\n",
      "|   |   |   |   |--- feature_52 <= 56.50\n",
      "|   |   |   |   |   |--- value: [72.00]\n",
      "|   |   |   |   |--- feature_52 >  56.50\n",
      "|   |   |   |   |   |--- value: [75.00]\n",
      "|   |   |   |--- feature_52 >  61.50\n",
      "|   |   |   |   |--- feature_38 <= 0.50\n",
      "|   |   |   |   |   |--- value: [79.00]\n",
      "|   |   |   |   |--- feature_38 >  0.50\n",
      "|   |   |   |   |   |--- value: [83.00]\n",
      "|   |--- feature_52 >  65.50\n",
      "|   |   |--- feature_52 <= 73.50\n",
      "|   |   |   |--- feature_28 <= 0.50\n",
      "|   |   |   |   |--- feature_52 <= 68.50\n",
      "|   |   |   |   |   |--- value: [77.00]\n",
      "|   |   |   |   |--- feature_52 >  68.50\n",
      "|   |   |   |   |   |--- value: [79.00]\n",
      "|   |   |   |--- feature_28 >  0.50\n",
      "|   |   |   |   |--- feature_16 <= 0.50\n",
      "|   |   |   |   |   |--- value: [83.50]\n",
      "|   |   |   |   |--- feature_16 >  0.50\n",
      "|   |   |   |   |   |--- value: [90.00]\n",
      "|   |   |--- feature_52 >  73.50\n",
      "|   |   |   |--- feature_52 <= 79.50\n",
      "|   |   |   |   |--- feature_29 <= 0.50\n",
      "|   |   |   |   |   |--- value: [91.00]\n",
      "|   |   |   |   |--- feature_29 >  0.50\n",
      "|   |   |   |   |   |--- value: [85.00]\n",
      "|   |   |   |--- feature_52 >  79.50\n",
      "|   |   |   |   |--- feature_35 <= 0.50\n",
      "|   |   |   |   |   |--- value: [93.00]\n",
      "|   |   |   |   |--- feature_35 >  0.50\n",
      "|   |   |   |   |   |--- value: [98.00]\n",
      "\n"
     ]
    }
   ],
   "source": [
    "text_representation = tree.export_text(grid_decTree.best_estimator_[1])\n",
    "print(text_representation)"
   ]
  },
  {
   "cell_type": "code",
   "execution_count": null,
   "metadata": {},
   "outputs": [],
   "source": []
  },
  {
   "cell_type": "code",
   "execution_count": null,
   "metadata": {},
   "outputs": [],
   "source": []
  },
  {
   "cell_type": "markdown",
   "metadata": {},
   "source": [
    "## RANDOM FOREST"
   ]
  },
  {
   "cell_type": "code",
   "execution_count": 62,
   "metadata": {},
   "outputs": [],
   "source": [
    "random = RandomForestRegressor()\n",
    "paramsRandom = {\"randomforestregressor__criterion\": ['mse', 'mae'], \"randomforestregressor__max_depth\": [5,6], \"randomforestregressor__n_estimators\": [35], \"randomforestregressor__random_state\": [3]}"
   ]
  },
  {
   "cell_type": "code",
   "execution_count": 63,
   "metadata": {},
   "outputs": [],
   "source": [
    "pipe_Random = make_pipeline(mkt, random)"
   ]
  },
  {
   "cell_type": "code",
   "execution_count": 64,
   "metadata": {},
   "outputs": [],
   "source": [
    "grid_Random = GridSearchCV(pipe_Random, param_grid = paramsRandom, cv = 5, scoring=\"neg_mean_absolute_error\")"
   ]
  },
  {
   "cell_type": "code",
   "execution_count": 65,
   "metadata": {},
   "outputs": [
    {
     "data": {
      "text/plain": [
       "GridSearchCV(cv=5,\n",
       "             estimator=Pipeline(steps=[('columntransformer',\n",
       "                                        ColumnTransformer(remainder='passthrough',\n",
       "                                                          transformers=[('onehotencoder',\n",
       "                                                                         OneHotEncoder(),\n",
       "                                                                         ['school',\n",
       "                                                                          'school_setting',\n",
       "                                                                          'school_type',\n",
       "                                                                          'teaching_method',\n",
       "                                                                          'gender',\n",
       "                                                                          'n_student',\n",
       "                                                                          'lunch'])])),\n",
       "                                       ('randomforestregressor',\n",
       "                                        RandomForestRegressor())]),\n",
       "             param_grid={'randomforestregressor__criterion': ['mse', 'mae'],\n",
       "                         'randomforestregressor__max_depth': [5, 6],\n",
       "                         'randomforestregressor__n_estimators': [35],\n",
       "                         'randomforestregressor__random_state': [3]},\n",
       "             scoring='neg_mean_absolute_error')"
      ]
     },
     "execution_count": 65,
     "metadata": {},
     "output_type": "execute_result"
    }
   ],
   "source": [
    "grid_Random.fit(X_train, y_train)"
   ]
  },
  {
   "cell_type": "code",
   "execution_count": 66,
   "metadata": {},
   "outputs": [
    {
     "data": {
      "text/plain": [
       "-2.497635806860642"
      ]
     },
     "execution_count": 66,
     "metadata": {},
     "output_type": "execute_result"
    }
   ],
   "source": [
    "grid_Random.best_score_"
   ]
  },
  {
   "cell_type": "code",
   "execution_count": 67,
   "metadata": {},
   "outputs": [
    {
     "data": {
      "text/plain": [
       "{'randomforestregressor__criterion': 'mse',\n",
       " 'randomforestregressor__max_depth': 6,\n",
       " 'randomforestregressor__n_estimators': 35,\n",
       " 'randomforestregressor__random_state': 3}"
      ]
     },
     "execution_count": 67,
     "metadata": {},
     "output_type": "execute_result"
    }
   ],
   "source": [
    "grid_Random.best_params_"
   ]
  },
  {
   "cell_type": "code",
   "execution_count": 68,
   "metadata": {},
   "outputs": [
    {
     "data": {
      "text/plain": [
       "2.6059702912596494"
      ]
     },
     "execution_count": 68,
     "metadata": {},
     "output_type": "execute_result"
    }
   ],
   "source": [
    "y_pred_Random = grid_Random.predict(X_test)\n",
    "mean_absolute_error(y_test, y_pred_Random)\n",
    "\n",
    "#slightly worse than KNN"
   ]
  },
  {
   "cell_type": "code",
   "execution_count": 69,
   "metadata": {},
   "outputs": [
    {
     "name": "stdout",
     "output_type": "stream",
     "text": [
      "10.714839265777865\n",
      "3.2733529088348945\n"
     ]
    }
   ],
   "source": [
    "print(mean_squared_error(y_test, y_pred_Random))\n",
    "print(np.sqrt(mean_squared_error(y_test, y_pred_Random)))"
   ]
  },
  {
   "cell_type": "code",
   "execution_count": 70,
   "metadata": {},
   "outputs": [
    {
     "data": {
      "text/plain": [
       "<BarContainer object of 53 artists>"
      ]
     },
     "execution_count": 70,
     "metadata": {},
     "output_type": "execute_result"
    },
    {
     "data": {
      "image/png": "[encoded data removed]",
      "text/plain": [
       "<Figure size 576x396 with 1 Axes>"
      ]
     },
     "metadata": {},
     "output_type": "display_data"
    }
   ],
   "source": [
    "grid_Random.best_estimator_[1].feature_importances_\n",
    "plt.barh(y = range(0,53), width = grid_Random.best_estimator_[1].feature_importances_)"
   ]
  },
  {
   "cell_type": "code",
   "execution_count": null,
   "metadata": {},
   "outputs": [],
   "source": []
  },
  {
   "cell_type": "markdown",
   "metadata": {},
   "source": [
    "## RIDGE"
   ]
  },
  {
   "cell_type": "code",
   "execution_count": 71,
   "metadata": {},
   "outputs": [],
   "source": [
    "ridge = Ridge()\n",
    "paramsRidge = {\"ridge__alpha\": [x for x in np.linspace(0, 2, num = 50)]}"
   ]
  },
  {
   "cell_type": "code",
   "execution_count": 72,
   "metadata": {},
   "outputs": [],
   "source": [
    "pipe_Ridge = make_pipeline(mkt, ridge)"
   ]
  },
  {
   "cell_type": "code",
   "execution_count": 73,
   "metadata": {},
   "outputs": [],
   "source": [
    "grid_Ridge = GridSearchCV(pipe_Ridge, param_grid = paramsRidge, cv = 5, scoring=\"neg_mean_absolute_error\")"
   ]
  },
  {
   "cell_type": "code",
   "execution_count": 74,
   "metadata": {},
   "outputs": [
    {
     "data": {
      "text/plain": [
       "GridSearchCV(cv=5,\n",
       "             estimator=Pipeline(steps=[('columntransformer',\n",
       "                                        ColumnTransformer(remainder='passthrough',\n",
       "                                                          transformers=[('onehotencoder',\n",
       "                                                                         OneHotEncoder(),\n",
       "                                                                         ['school',\n",
       "                                                                          'school_setting',\n",
       "                                                                          'school_type',\n",
       "                                                                          'teaching_method',\n",
       "                                                                          'gender',\n",
       "                                                                          'n_student',\n",
       "                                                                          'lunch'])])),\n",
       "                                       ('ridge', Ridge())]),\n",
       "             param_grid={'ridge__alpha': [0.0, 0.04081632653061224,\n",
       "                                          0.08163265306122448,\n",
       "                                          0.122448979...\n",
       "                                          0.5306122448979591,\n",
       "                                          0.5714285714285714,\n",
       "                                          0.6122448979591836,\n",
       "                                          0.6530612244897959,\n",
       "                                          0.6938775510204082,\n",
       "                                          0.7346938775510203,\n",
       "                                          0.7755102040816326,\n",
       "                                          0.8163265306122448,\n",
       "                                          0.8571428571428571,\n",
       "                                          0.8979591836734693,\n",
       "                                          0.9387755102040816,\n",
       "                                          0.9795918367346939,\n",
       "                                          1.0204081632653061,\n",
       "                                          1.0612244897959182,\n",
       "                                          1.1020408163265305,\n",
       "                                          1.1428571428571428, 1.183673469387755, ...]},\n",
       "             scoring='neg_mean_absolute_error')"
      ]
     },
     "execution_count": 74,
     "metadata": {},
     "output_type": "execute_result"
    }
   ],
   "source": [
    "grid_Ridge.fit(X_train, y_train)"
   ]
  },
  {
   "cell_type": "code",
   "execution_count": 75,
   "metadata": {},
   "outputs": [
    {
     "data": {
      "text/plain": [
       "-2.5435288123991215"
      ]
     },
     "execution_count": 75,
     "metadata": {},
     "output_type": "execute_result"
    }
   ],
   "source": [
    "grid_Ridge.best_score_"
   ]
  },
  {
   "cell_type": "code",
   "execution_count": 76,
   "metadata": {},
   "outputs": [
    {
     "data": {
      "text/plain": [
       "{'ridge__alpha': 2.0}"
      ]
     },
     "execution_count": 76,
     "metadata": {},
     "output_type": "execute_result"
    }
   ],
   "source": [
    "grid_Ridge.best_params_"
   ]
  },
  {
   "cell_type": "code",
   "execution_count": 77,
   "metadata": {},
   "outputs": [
    {
     "data": {
      "text/plain": [
       "2.685804951842144"
      ]
     },
     "execution_count": 77,
     "metadata": {},
     "output_type": "execute_result"
    }
   ],
   "source": [
    "y_pred_Ridge = grid_Ridge.predict(X_test)\n",
    "mean_absolute_error(y_test, y_pred_Ridge)\n",
    "\n",
    "#slightly worse than KNN"
   ]
  },
  {
   "cell_type": "code",
   "execution_count": 78,
   "metadata": {},
   "outputs": [
    {
     "name": "stdout",
     "output_type": "stream",
     "text": [
      "11.1240865439102\n",
      "3.335279080363471\n"
     ]
    }
   ],
   "source": [
    "print(mean_squared_error(y_test, y_pred_Ridge))\n",
    "print(np.sqrt(mean_squared_error(y_test, y_pred_Ridge)))"
   ]
  },
  {
   "cell_type": "code",
   "execution_count": null,
   "metadata": {},
   "outputs": [],
   "source": []
  },
  {
   "cell_type": "code",
   "execution_count": null,
   "metadata": {},
   "outputs": [],
   "source": []
  },
  {
   "cell_type": "markdown",
   "metadata": {},
   "source": [
    "## LASSO"
   ]
  },
  {
   "cell_type": "code",
   "execution_count": 79,
   "metadata": {},
   "outputs": [],
   "source": [
    "lasso = Lasso()\n",
    "paramsLasso = {\"lasso__alpha\": [x for x in np.linspace(0, 2, num = 50)]}"
   ]
  },
  {
   "cell_type": "code",
   "execution_count": 80,
   "metadata": {},
   "outputs": [],
   "source": [
    "pipe_Lasso = make_pipeline(mkt, lasso)"
   ]
  },
  {
   "cell_type": "code",
   "execution_count": 81,
   "metadata": {},
   "outputs": [],
   "source": [
    "grid_Lasso = GridSearchCV(pipe_Lasso, param_grid = paramsLasso, cv = 5, scoring=\"neg_mean_absolute_error\")"
   ]
  },
  {
   "cell_type": "code",
   "execution_count": 82,
   "metadata": {},
   "outputs": [
    {
     "data": {
      "text/plain": [
       "GridSearchCV(cv=5,\n",
       "             estimator=Pipeline(steps=[('columntransformer',\n",
       "                                        ColumnTransformer(remainder='passthrough',\n",
       "                                                          transformers=[('onehotencoder',\n",
       "                                                                         OneHotEncoder(),\n",
       "                                                                         ['school',\n",
       "                                                                          'school_setting',\n",
       "                                                                          'school_type',\n",
       "                                                                          'teaching_method',\n",
       "                                                                          'gender',\n",
       "                                                                          'n_student',\n",
       "                                                                          'lunch'])])),\n",
       "                                       ('lasso', Lasso())]),\n",
       "             param_grid={'lasso__alpha': [0.0, 0.04081632653061224,\n",
       "                                          0.08163265306122448,\n",
       "                                          0.122448979...\n",
       "                                          0.5306122448979591,\n",
       "                                          0.5714285714285714,\n",
       "                                          0.6122448979591836,\n",
       "                                          0.6530612244897959,\n",
       "                                          0.6938775510204082,\n",
       "                                          0.7346938775510203,\n",
       "                                          0.7755102040816326,\n",
       "                                          0.8163265306122448,\n",
       "                                          0.8571428571428571,\n",
       "                                          0.8979591836734693,\n",
       "                                          0.9387755102040816,\n",
       "                                          0.9795918367346939,\n",
       "                                          1.0204081632653061,\n",
       "                                          1.0612244897959182,\n",
       "                                          1.1020408163265305,\n",
       "                                          1.1428571428571428, 1.183673469387755, ...]},\n",
       "             scoring='neg_mean_absolute_error')"
      ]
     },
     "execution_count": 82,
     "metadata": {},
     "output_type": "execute_result"
    }
   ],
   "source": [
    "grid_Lasso.fit(X_train, y_train)"
   ]
  },
  {
   "cell_type": "code",
   "execution_count": 83,
   "metadata": {},
   "outputs": [
    {
     "data": {
      "text/plain": [
       "-2.500715537676891"
      ]
     },
     "execution_count": 83,
     "metadata": {},
     "output_type": "execute_result"
    }
   ],
   "source": [
    "grid_Lasso.best_score_"
   ]
  },
  {
   "cell_type": "code",
   "execution_count": 84,
   "metadata": {},
   "outputs": [
    {
     "data": {
      "text/plain": [
       "{'lasso__alpha': 0.0}"
      ]
     },
     "execution_count": 84,
     "metadata": {},
     "output_type": "execute_result"
    }
   ],
   "source": [
    "grid_Lasso.best_params_"
   ]
  },
  {
   "cell_type": "code",
   "execution_count": 85,
   "metadata": {},
   "outputs": [
    {
     "data": {
      "text/plain": [
       "2.571230324424948"
      ]
     },
     "execution_count": 85,
     "metadata": {},
     "output_type": "execute_result"
    }
   ],
   "source": [
    "y_pred_Lasso = grid_Lasso.predict(X_test)\n",
    "mean_absolute_error(y_test, y_pred_Lasso)\n",
    "\n",
    "#slightly worse than KNN"
   ]
  },
  {
   "cell_type": "code",
   "execution_count": 86,
   "metadata": {},
   "outputs": [
    {
     "name": "stdout",
     "output_type": "stream",
     "text": [
      "10.007759287882243\n",
      "3.1635042734098278\n"
     ]
    }
   ],
   "source": [
    "print(mean_squared_error(y_test, y_pred_Lasso))\n",
    "print(np.sqrt(mean_squared_error(y_test, y_pred_Lasso)))"
   ]
  },
  {
   "cell_type": "code",
   "execution_count": null,
   "metadata": {},
   "outputs": [],
   "source": []
  },
  {
   "cell_type": "code",
   "execution_count": null,
   "metadata": {},
   "outputs": [],
   "source": []
  },
  {
   "cell_type": "markdown",
   "metadata": {},
   "source": [
    "KNN seems to provide the best results"
   ]
  },
  {
   "cell_type": "code",
   "execution_count": null,
   "metadata": {},
   "outputs": [],
   "source": []
  }
 ],
 "metadata": {
  "kernelspec": {
   "display_name": "Python 3",
   "language": "python",
   "name": "python3"
  },
  "language_info": {
   "codemirror_mode": {
    "name": "ipython",
    "version": 3
   },
   "file_extension": ".py",
   "mimetype": "text/x-python",
   "name": "python",
   "nbconvert_exporter": "python",
   "pygments_lexer": "ipython3",
   "version": "3.8.5"
  }
 },
 "nbformat": 4,
 "nbformat_minor": 4
}
